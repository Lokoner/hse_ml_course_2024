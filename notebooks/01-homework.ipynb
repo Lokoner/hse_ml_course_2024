{
 "cells": [
  {
   "cell_type": "markdown",
   "id": "2e5d91d9",
   "metadata": {},
   "source": [
    "# Easy"
   ]
  },
  {
   "cell_type": "code",
   "execution_count": 1,
   "id": "2a5710c5",
   "metadata": {},
   "outputs": [],
   "source": [
    "def func(nums: list[float]) -> dict[str, float]:\n",
    "\n",
    "    len_of_num = len(nums)\n",
    "    if len_of_num == 0:\n",
    "        return {\"mean\": 0, \"median\": 0, \"mode\": 0}\n",
    "    \n",
    "    # finding mean\n",
    "    mean = sum(nums) / len_of_num\n",
    "\n",
    "    sorted_nums = sorted(nums)\n",
    "    \n",
    "    # finding median\n",
    "    middle = len_of_num // 2\n",
    "    if len_of_num % 2 != 0:\n",
    "        median = sorted_nums[middle]\n",
    "    else:\n",
    "        median = (sorted_nums[middle - 1] + sorted_nums[middle]) / 2\n",
    "\n",
    "    # finding mode\n",
    "    mode = sorted_nums[0]\n",
    "    max_count_for_mode = 1\n",
    "    cur_count_for_mode = 1\n",
    "    cur_elem = sorted_nums[0]\n",
    "\n",
    "    for elem in sorted_nums[1::]:\n",
    "        if elem == cur_elem:\n",
    "            cur_count_for_mode += 1\n",
    "        else:\n",
    "            if cur_count_for_mode > max_count_for_mode:\n",
    "                max_count_for_mode = cur_count_for_mode\n",
    "                mode = cur_elem\n",
    "            cur_count_for_mode = 1\n",
    "            cur_elem = elem\n",
    "    if cur_count_for_mode > max_count_for_mode:\n",
    "        mode = cur_elem\n",
    "    \n",
    "    return {\"mean\": mean, \"median\": median, \"mode\": mode}"
   ]
  },
  {
   "cell_type": "code",
   "execution_count": 2,
   "id": "029d8dfa",
   "metadata": {},
   "outputs": [
    {
     "name": "stdout",
     "output_type": "stream",
     "text": [
      "{'mean': 3.4285714285714284, 'median': 3, 'mode': 1}\n",
      "{'mean': 0.6, 'median': 1, 'mode': -4}\n",
      "{'mean': 1.0, 'median': 1, 'mode': 1}\n",
      "{'mean': 0, 'median': 0, 'mode': 0}\n"
     ]
    }
   ],
   "source": [
    "# Тесты\n",
    "\n",
    "print(func([0, 1, 1, 10, 5, 4, 3]))\n",
    "print(func([1, -2, 3, -4, 5]))\n",
    "print(func([1]))\n",
    "print(func([]))"
   ]
  },
  {
   "cell_type": "markdown",
   "id": "71212064",
   "metadata": {},
   "source": [
    "# Medium"
   ]
  },
  {
   "cell_type": "code",
   "execution_count": 3,
   "id": "1e769688",
   "metadata": {},
   "outputs": [
    {
     "name": "stdout",
     "output_type": "stream",
     "text": [
      "Broodmother\n"
     ]
    }
   ],
   "source": [
    "def parse_csv(file_content: str) -> list[dict]:\n",
    "    rows = file_content.split('\\n')\n",
    "    header = rows[0].split(',')\n",
    "    result = []\n",
    "    for i in range(1, len(rows)):\n",
    "        values = rows[i].split(',')\n",
    "        if len(values) >= len(header):\n",
    "            record = {}\n",
    "            for j in range(len(header)):\n",
    "                if header[j] == \"roles\":\n",
    "                    record[header[j]] = values[j].split(';')  # при условии, что роли разделены точкой с запятой\n",
    "                else:\n",
    "                    record[header[j]] = values[j]\n",
    "            result.append(record)\n",
    "    return result\n",
    "\n",
    "\n",
    "def find_max_legs_hero(records: list[dict]) -> str:\n",
    "    max_legs = 0\n",
    "    max_legs_hero = \"\"\n",
    "    for record in records:\n",
    "        if \"legs\" in record:\n",
    "            legs = int(record[\"legs\"])\n",
    "            if legs > max_legs:\n",
    "                max_legs = legs\n",
    "                max_legs_hero = record[\"localized_name\"]\n",
    "    return max_legs_hero\n",
    "\n",
    "\n",
    "file_path = \"../data/dota_hero_stats.csv\"\n",
    "with open(file_path, 'r') as file:\n",
    "    csv_data = file.read()\n",
    "parsed_data = parse_csv(csv_data)\n",
    "max_legs_hero = find_max_legs_hero(parsed_data)\n",
    "print(max_legs_hero)"
   ]
  },
  {
   "cell_type": "markdown",
   "id": "83b362b1",
   "metadata": {},
   "source": [
    "Больше всего ног у Broodmother (8)"
   ]
  }
 ],
 "metadata": {
  "kernelspec": {
   "display_name": "Python 3 (ipykernel)",
   "language": "python",
   "name": "python3"
  },
  "language_info": {
   "codemirror_mode": {
    "name": "ipython",
    "version": 3
   },
   "file_extension": ".py",
   "mimetype": "text/x-python",
   "name": "python",
   "nbconvert_exporter": "python",
   "pygments_lexer": "ipython3",
   "version": "3.10.6"
  }
 },
 "nbformat": 4,
 "nbformat_minor": 5
}
